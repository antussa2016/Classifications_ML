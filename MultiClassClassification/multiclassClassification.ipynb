{
  "nbformat": 4,
  "nbformat_minor": 0,
  "metadata": {
    "colab": {
      "provenance": [],
      "authorship_tag": "ABX9TyMWNn/E0hBbtYLTBm7vZEco",
      "include_colab_link": true
    },
    "kernelspec": {
      "name": "python3",
      "display_name": "Python 3"
    },
    "language_info": {
      "name": "python"
    }
  },
  "cells": [
    {
      "cell_type": "markdown",
      "metadata": {
        "id": "view-in-github",
        "colab_type": "text"
      },
      "source": [
        "<a href=\"https://colab.research.google.com/github/antussa2016/Classifications_ML/blob/master/MultiClassClassification/multiclassClassification.ipynb\" target=\"_parent\"><img src=\"https://colab.research.google.com/assets/colab-badge.svg\" alt=\"Open In Colab\"/></a>"
      ]
    },
    {
      "cell_type": "code",
      "execution_count": 2,
      "metadata": {
        "colab": {
          "base_uri": "https://localhost:8080/"
        },
        "id": "M_rALCAUz5ms",
        "outputId": "5844b83c-a5dc-4b0b-83fa-5bd9dc7be74b"
      },
      "outputs": [
        {
          "output_type": "stream",
          "name": "stdout",
          "text": [
            "Accuracy: 1.0\n",
            "Predicted: 1, Actual: 1\n",
            "Predicted: 0, Actual: 0\n",
            "Predicted: 2, Actual: 2\n",
            "Predicted: 1, Actual: 1\n",
            "Predicted: 1, Actual: 1\n",
            "Predicted: 0, Actual: 0\n",
            "Predicted: 1, Actual: 1\n",
            "Predicted: 2, Actual: 2\n",
            "Predicted: 1, Actual: 1\n",
            "Predicted: 1, Actual: 1\n",
            "Predicted: 2, Actual: 2\n",
            "Predicted: 0, Actual: 0\n",
            "Predicted: 0, Actual: 0\n",
            "Predicted: 0, Actual: 0\n",
            "Predicted: 0, Actual: 0\n",
            "Predicted: 1, Actual: 1\n",
            "Predicted: 2, Actual: 2\n",
            "Predicted: 1, Actual: 1\n",
            "Predicted: 1, Actual: 1\n",
            "Predicted: 2, Actual: 2\n",
            "Predicted: 0, Actual: 0\n",
            "Predicted: 2, Actual: 2\n",
            "Predicted: 0, Actual: 0\n",
            "Predicted: 2, Actual: 2\n",
            "Predicted: 2, Actual: 2\n",
            "Predicted: 2, Actual: 2\n",
            "Predicted: 2, Actual: 2\n",
            "Predicted: 2, Actual: 2\n",
            "Predicted: 0, Actual: 0\n",
            "Predicted: 0, Actual: 0\n"
          ]
        }
      ],
      "source": [
        "from sklearn.datasets import load_iris\n",
        "from sklearn.model_selection import train_test_split\n",
        "from sklearn.linear_model import LogisticRegression\n",
        "from sklearn.metrics import accuracy_score\n",
        "\n",
        "# Load the Iris dataset\n",
        "iris = load_iris()\n",
        "X = iris.data  # Features\n",
        "y = iris.target  # Target labels\n",
        "\n",
        "# Split the data into training and testing sets\n",
        "X_train, X_test, y_train, y_test = train_test_split(X, y, test_size=0.2, random_state=42)\n",
        "\n",
        "# Initialize and train a logistic regression model\n",
        "model = LogisticRegression(max_iter=1000)  # Increase max_iter for convergence\n",
        "model.fit(X_train, y_train)\n",
        "\n",
        "# Make predictions on the test set\n",
        "predictions = model.predict(X_test)\n",
        "\n",
        "# Calculate the accuracy of the model\n",
        "accuracy = accuracy_score(y_test, predictions)\n",
        "print(\"Accuracy:\", accuracy)\n",
        "\n",
        "# Display the predicted classes and actual classes\n",
        "for i in range(len(predictions)):\n",
        "    print(f\"Predicted: {predictions[i]}, Actual: {y_test[i]}\")"
      ]
    }
  ]
}